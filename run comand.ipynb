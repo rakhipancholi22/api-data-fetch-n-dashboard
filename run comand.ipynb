{
 "cells": [
  {
   "cell_type": "code",
   "execution_count": null,
   "id": "fc09425e-1bc2-4b49-b352-d98dd9e62397",
   "metadata": {},
   "outputs": [],
   "source": [
    "!streamlit run apiproj.py\n"
   ]
  },
  {
   "cell_type": "code",
   "execution_count": null,
   "id": "256ebb63-21c0-47aa-9420-1ecf41669cbc",
   "metadata": {},
   "outputs": [],
   "source": []
  }
 ],
 "metadata": {
  "kernelspec": {
   "display_name": "Python 3 (ipykernel)",
   "language": "python",
   "name": "python3"
  },
  "language_info": {
   "codemirror_mode": {
    "name": "ipython",
    "version": 3
   },
   "file_extension": ".py",
   "mimetype": "text/x-python",
   "name": "python",
   "nbconvert_exporter": "python",
   "pygments_lexer": "ipython3",
   "version": "3.11.5"
  }
 },
 "nbformat": 4,
 "nbformat_minor": 5
}
